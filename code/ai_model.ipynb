{
 "cells": [
  {
   "cell_type": "code",
   "execution_count": 1,
   "metadata": {},
   "outputs": [
    {
     "name": "stderr",
     "output_type": "stream",
     "text": [
      "c:\\Users\\vikap\\AppData\\Local\\Programs\\Python\\Python38\\lib\\site-packages\\tqdm\\auto.py:21: TqdmWarning: IProgress not found. Please update jupyter and ipywidgets. See https://ipywidgets.readthedocs.io/en/stable/user_install.html\n",
      "  from .autonotebook import tqdm as notebook_tqdm\n",
      "Some weights of the PyTorch model were not used when initializing the TF 2.0 model TFRobertaForQuestionAnswering: ['roberta.embeddings.position_ids']\n",
      "- This IS expected if you are initializing TFRobertaForQuestionAnswering from a PyTorch model trained on another task or with another architecture (e.g. initializing a TFBertForSequenceClassification model from a BertForPreTraining model).\n",
      "- This IS NOT expected if you are initializing TFRobertaForQuestionAnswering from a PyTorch model that you expect to be exactly identical (e.g. initializing a TFBertForSequenceClassification model from a BertForSequenceClassification model).\n",
      "All the weights of TFRobertaForQuestionAnswering were initialized from the PyTorch model.\n",
      "If your task is similar to the task the model of the checkpoint was trained on, you can already use TFRobertaForQuestionAnswering for predictions without further training.\n"
     ]
    },
    {
     "data": {
      "text/plain": [
       "['Non-transparent sharing of branch predictor selectors between contexts',\n",
       " 'enable information disclosure via local access',\n",
       " 'Intel(R) Processors']"
      ]
     },
     "execution_count": 1,
     "metadata": {},
     "output_type": "execute_result"
    }
   ],
   "source": [
    "from transformers import AutoModelForQuestionAnswering, AutoTokenizer, pipeline\n",
    "import os\n",
    "\n",
    "os.environ[\"PATH\"] += os.pathsep + 'C:/Program Files/Graphviz/bin'\n",
    "\n",
    "class CVE_description_parser:\n",
    "    def __init__(self, model_name='deepset/roberta-base-squad2', prompts=[]) -> None:\n",
    "        self.prompts = prompts\n",
    "        \n",
    "        \n",
    "        # a) Get predictions\n",
    "        self.nlp = pipeline('question-answering', model=model_name, tokenizer=model_name)\n",
    "\n",
    "    def parse_description(self, description: str):\n",
    "        \n",
    "        answer = []\n",
    "        \n",
    "        for prompt_question in self.prompts:\n",
    "            QA_input = {\n",
    "                'question': prompt_question,\n",
    "                'context': description\n",
    "            }\n",
    "            \n",
    "            res = self.nlp(QA_input)\n",
    "            \n",
    "            answer.append(res['answer'])\n",
    "            \n",
    "        return answer\n",
    "            \n",
    "            \n",
    "prompts = [\n",
    "    'What is the reason of vulnerability in this case?',\n",
    "    'What is the impact of this vulnerability?',\n",
    "    'Which devices does it affect?',\n",
    "    \n",
    "    ]\n",
    "\n",
    "description = 'Non-transparent sharing of branch predictor selectors between contexts in some Intel(R) Processors may allow an authorized user to potentially enable information disclosure via local access.'\n",
    "\n",
    "parser = CVE_description_parser(prompts=prompts)\n",
    "\n",
    "parser.parse_description(description=description)"
   ]
  }
 ],
 "metadata": {
  "kernelspec": {
   "display_name": "Python 3",
   "language": "python",
   "name": "python3"
  },
  "language_info": {
   "codemirror_mode": {
    "name": "ipython",
    "version": 3
   },
   "file_extension": ".py",
   "mimetype": "text/x-python",
   "name": "python",
   "nbconvert_exporter": "python",
   "pygments_lexer": "ipython3",
   "version": "3.8.10"
  }
 },
 "nbformat": 4,
 "nbformat_minor": 2
}
